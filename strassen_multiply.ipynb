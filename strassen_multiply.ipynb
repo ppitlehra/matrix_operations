{
  "nbformat": 4,
  "nbformat_minor": 0,
  "metadata": {
    "colab": {
      "provenance": []
    },
    "kernelspec": {
      "name": "python3",
      "display_name": "Python 3"
    },
    "language_info": {
      "name": "python"
    }
  },
  "cells": [
    {
      "cell_type": "code",
      "execution_count": 8,
      "metadata": {
        "colab": {
          "base_uri": "https://localhost:8080/"
        },
        "id": "F2JGCZQclPKq",
        "outputId": "e811d1b6-e53a-4680-aa16-2a270bb9c526"
      },
      "outputs": [
        {
          "output_type": "stream",
          "name": "stdout",
          "text": [
            "Strassen Algorithm Result:\n",
            "[[2.44624922 2.96209545 3.77970424 0.74002006 2.62027294 2.63462968\n",
            "  2.46098409 2.64849713]\n",
            " [2.89005524 3.32305485 3.79992536 1.17158533 3.20250552 2.61054272\n",
            "  3.02817306 3.14659567]\n",
            " [1.336418   1.44494553 1.8584877  0.29578255 1.25624498 1.08437915\n",
            "  1.19154142 0.94221439]\n",
            " [1.4612873  1.71283165 1.81967744 0.891304   1.61167265 1.08685498\n",
            "  1.82385506 1.85361505]\n",
            " [1.98631972 2.46100737 3.03520897 0.86276833 2.5347079  1.41219366\n",
            "  2.43881995 2.24631286]\n",
            " [2.40550377 2.55526501 3.45462197 1.04003874 2.32648157 2.24418928\n",
            "  2.62705403 2.27403939]\n",
            " [1.67814612 2.76283875 3.09380396 0.66527512 2.39995844 2.1229422\n",
            "  2.17000487 1.93910283]\n",
            " [2.41203144 2.80305456 3.2114802  0.82231148 2.76346373 2.08778483\n",
            "  2.24632964 2.56017197]]\n"
          ]
        }
      ],
      "source": [
        "import numpy as np\n",
        "import time\n",
        "\n",
        "def strassen_multiply(matrix1, matrix2):\n",
        "  size = matrix1.shape[0]\n",
        "\n",
        "    # Base case: if matrices are 1x1, perform standard multiplication\n",
        "  if size == 1:\n",
        "    return matrix1 * matrix2\n",
        "\n",
        "    # Split matrices into quadrants\n",
        "  half_size = size // 2\n",
        "  a11 = matrix1[:half_size, :half_size]\n",
        "  a12 = matrix1[:half_size, half_size:]\n",
        "  a21 = matrix1[half_size:, :half_size]\n",
        "  a22 = matrix1[half_size:, half_size:]\n",
        "\n",
        "  b11 = matrix2[:half_size, :half_size]\n",
        "  b12 = matrix2[:half_size, half_size:]\n",
        "  b21 = matrix2[half_size:, :half_size]\n",
        "  b22 = matrix2[half_size:, half_size:]\n",
        "\n",
        "    # Recursively compute products of submatrices\n",
        "  p1 = strassen_multiply(a11 + a22, b11 + b22)\n",
        "  p2 = strassen_multiply(a21 + a22, b11)\n",
        "  p3 = strassen_multiply(a11, b12 - b22)\n",
        "  p4 = strassen_multiply(a22, b21 - b11)\n",
        "  p5 = strassen_multiply(a11 + a12, b22)\n",
        "  p6 = strassen_multiply(a21 - a11, b11 + b12)\n",
        "  p7 = strassen_multiply(a12 - a22, b21 + b22)\n",
        "\n",
        "    # Compute submatrices of the result\n",
        "  c11 = p1 + p4 - p5 + p7\n",
        "  c12 = p3 + p5\n",
        "  c21 = p2 + p4\n",
        "  c22 = p1 + p3 - p2 + p6\n",
        "\n",
        "    # Combine submatrices into the result matrix\n",
        "  result = np.zeros((size, size))\n",
        "  result[:half_size, :half_size] = c11\n",
        "  result[:half_size, half_size:] = c12\n",
        "  result[half_size:, :half_size] = c21\n",
        "  result[half_size:, half_size:] = c22\n",
        "\n",
        "  return result\n",
        "\n",
        "# Generate random matrices for testing\n",
        "size = 8  # Size of the matrices\n",
        "matrix1 = np.random.rand(size, size)\n",
        "matrix2 = np.random.rand(size, size)\n",
        "\n",
        "\n",
        "strassen_result = strassen_multiply(matrix1, matrix2)\n",
        "\n",
        "print(\"Strassen Algorithm Result:\")\n",
        "print(strassen_result)\n",
        "\n",
        "\n"
      ]
    },
    {
      "cell_type": "code",
      "source": [],
      "metadata": {
        "id": "DhHNsDK2lvfY"
      },
      "execution_count": null,
      "outputs": []
    }
  ]
}